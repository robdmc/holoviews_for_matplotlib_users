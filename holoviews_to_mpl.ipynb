{
 "cells": [
  {
   "cell_type": "markdown",
   "metadata": {},
   "source": [
    "# Holoviews for Matplotlib Users\n",
    "\n",
    "## Purpose\n",
    "This notebook is a working document to come with what will hopefully be a useful resource for matplotlib users to transition to holoviews.\n",
    "\n",
    "The overall vision would be to create a resource where people could find direct examples translating matplotlib commands/tasks they already know into their holoviews equivalent.  I think a good way to do this might be to create quasi-identical matplotlib and holoviews plots, each with a subset of tasks carried out.  Then each of these examples can be tagged with the tasks they contain.  This would make it really easy to search, for example, for all the examples that include manually setting the color of a line plot.\n",
    "\n",
    "The segment of users wanting to switch from matplotlib to holoviews will probably be primarily motivated by the excellent bokeh backend.  If they already know matplotlib, then they would have less of an incentive to use holoviews instead of just dropping back to the mpl they know and love.  I would recommend that this document focus on using only the bokeh backend.\n",
    "\n",
    "Furthermore.  Many users will be writing code in jupyter notebooks, but a fair number of old-school guys like me will probably want code they can put in scripts as well.  This means that it would be nice to have notebook (i.e. magics) and script examples for each task."
   ]
  },
  {
   "cell_type": "markdown",
   "metadata": {},
   "source": [
    "## List of possible tags\n",
    "\n",
    "These are tasks that I know how to do in matplotlib, but want to know how to do in holoviews\n",
    "\n",
    "### Types of plots\n",
    "* `line_plot`: *draw a simple line plot*\n",
    "* `scatter_plot`: *draw a scatter plot varying postion, shape, size and color*\n",
    "* `histogram_plot`: *plot histograms*\n",
    "* `area_plot`: *draw (stacked) area plots*\n",
    "* `error_bar_plot`: *errorbar plot with mean +/- sigma specified*\n",
    "* `contour_plot`: *draw a contour plot of some function*\n",
    "* `image_plot`: *plot images (either actuall images or 2-d arrays)*\n",
    "* `bar_plot`: *create a bar pot*\n",
    "\n",
    "\n",
    "\n",
    "### Plot styling\n",
    "* `line_color`: *set a line color*\n",
    "* `line_width`: *set a line width*\n",
    "* `line_style`: *make a line solid, dashed, dotted, etc*\n",
    "* `line_opacity`: *change line opacity*\n",
    "* `marker`: *set marker shape/size*\n",
    "* `fig_size`: *manually set a figure size*\n",
    "* `overlay`: *put multiple traces on one plot\n",
    "* `subplots`: *do subplots*\n",
    "* `twinx`: *overlap two different plots with vastly different y scales*\n",
    "* `log_axes`: *set either/both axes to log*\n",
    "* `axis_limits`: *set axis limits on either/both x, y axes*\n",
    "* `grid`: *set grids on/off*\n",
    "* `legend_manual`: *manually place legend*\n",
    "* `legend_best`: *auto place legend at \"best\" location*\n",
    "* `text`: *overlay text*\n",
    "* `xylabel`: *axes labels*\n",
    "* `title`: *plot titles*\n",
    "* `xticks`: *manually set where the xticks of a graph will lie*\n",
    "* `xticklabels`: *manually define what the tick labels will be*\n",
    "* `zoom/pan`\n",
    "\n",
    "\n",
    "\n"
   ]
  },
  {
   "cell_type": "markdown",
   "metadata": {},
   "source": [
    "# Preambles\n",
    "Before using either matplotlib or holoviews, you need to run imports and some basic configuration.  Below are the \"preambles\" you need to run for matplotlib, holoviews, and just for working with the examples.\n",
    "\n"
   ]
  },
  {
   "cell_type": "markdown",
   "metadata": {},
   "source": [
    "## Matplotlib Preamble"
   ]
  },
  {
   "cell_type": "code",
   "execution_count": null,
   "metadata": {
    "collapsed": true
   },
   "outputs": [],
   "source": [
    "% matplotlib inline\n",
    "import pylab as pl"
   ]
  },
  {
   "cell_type": "markdown",
   "metadata": {},
   "source": [
    "## Holoviews Preamble"
   ]
  },
  {
   "cell_type": "code",
   "execution_count": null,
   "metadata": {},
   "outputs": [],
   "source": [
    "import holoviews as hv\n",
    "hv.extension('bokeh')\n"
   ]
  },
  {
   "cell_type": "markdown",
   "metadata": {},
   "source": [
    "## Preamble for working with examples\n",
    "This preamble defines some arrays we will use for our examples"
   ]
  },
  {
   "cell_type": "code",
   "execution_count": null,
   "metadata": {
    "collapsed": true
   },
   "outputs": [],
   "source": [
    "import pandas as pd\n",
    "import numpy as np\n",
    "\n",
    "# Generate some data\n",
    "time = np.linspace(0, 2 * np.pi, 30)\n",
    "ysin = np.sin(time)\n",
    "ycos = np.cos(time)\n",
    "\n",
    "np.random.seed(1)\n",
    "randx = np.random.randn(1000)\n",
    "randy = randx + np.random.randn(1000)\n",
    "# randy = (randy - np.mean(randy)) / np.std(randy)"
   ]
  },
  {
   "cell_type": "code",
   "execution_count": null,
   "metadata": {
    "collapsed": true
   },
   "outputs": [],
   "source": []
  },
  {
   "cell_type": "markdown",
   "metadata": {},
   "source": [
    "# Introduction\n",
    "\n",
    "Holoviews is an incredibly powerful new visualization tool built by the people at Anaconda.  It is a fairly large project, and as a longtime matplotlib user, I was a bit bewildered when getting started.  I am writing this in the hopes that it will help other old-school matplotlibbers like myself get up to speed quickly and start appreciating the power of Holoviews.\n",
    "\n",
    "## Assumptions about you\n",
    "* You know matplotlib pretty well\n",
    "* You like to do your analysis in Jupyter notebooks\n",
    "* You like interactive plots that allow you to zoom/pan around your data\n",
    "\n",
    "## Why should I learn Holoviews?  Matplotlib does what I need\n",
    "* ** Bokeh! **  For me the big selling point for Holoviews was the Bokeh library.  The charts it produces are really slick, and much more suited to data exploration than the charts matplotlib creates in the notebook.\n",
    "\n",
    "* ** Datashader! **  If you have large datasets, interactively exploring them can totally freeze your computer.  Holoviews incorporates the Datashader tool which will let you easily explore very large datasets.\n",
    "\n",
    "* ** Advanced Features ** Once you get past the basics covered in this tutorial, you'll find some really powerful abstractions for exploring your datasets that are simply not available in Matplotlib"
   ]
  },
  {
   "cell_type": "markdown",
   "metadata": {},
   "source": [
    "# Hello World\n",
    "Plotting a sine wave seems to be the \"hello world!\" application of data visualization so lets just get that out\n",
    "of the way right now"
   ]
  },
  {
   "cell_type": "markdown",
   "metadata": {},
   "source": [
    "## Matplotlib"
   ]
  },
  {
   "cell_type": "code",
   "execution_count": null,
   "metadata": {},
   "outputs": [],
   "source": [
    "# make a simple plot\n",
    "pl.plot(time, ysin);\n"
   ]
  },
  {
   "cell_type": "markdown",
   "metadata": {},
   "source": [
    "## Holoviews\n",
    "Holoviews calls line plots \"Curves.\"  So here we generate a curve.  Notice that the x, y arrays are passed in as a tuple instead of as separate arguments.  Also notice that Holoviews automatically places a series of controls beside the plot.  These allow for quickly zooming/panning around your data."
   ]
  },
  {
   "cell_type": "code",
   "execution_count": null,
   "metadata": {},
   "outputs": [],
   "source": [
    "# make a simple plot\n",
    "hv.Curve((time, ysin))\n",
    "\n",
    "# Tags for actions executed in this cell: line_plot"
   ]
  },
  {
   "cell_type": "markdown",
   "metadata": {},
   "source": [
    "# Advanced Hello World\n",
    "Now we move on to a slightly more advanced version of the sine wave plot where we'd like to style the trace with color, markers and linestyles.  We also want to add labels to the x and y axis and include a title"
   ]
  },
  {
   "cell_type": "markdown",
   "metadata": {},
   "source": [
    "# Matplotlib\n",
    "As a matplotlib user, one thing you probably never paid attention to the way you style plots.  Some of the command you use for styling plots are part of the plotting command themselves (for example: `'ro-'`) and others are separate commands (for example: `pl.xlabel('Time')`).  Holoviews will do things differently as you'll see below."
   ]
  },
  {
   "cell_type": "code",
   "execution_count": null,
   "metadata": {},
   "outputs": [],
   "source": [
    "# Spcecify the figure size you want to generate\n",
    "pl.figure(figsize=(10, 4))\n",
    "\n",
    "# Make a simple plot with styled trace\n",
    "pl.plot(time, ysin, 'ro-')\n",
    "\n",
    "# Add axis labels and plot title\n",
    "pl.xlabel('Time')\n",
    "pl.ylabel('Amplitude')\n",
    "pl.title('Sine Wave example');\n"
   ]
  },
  {
   "cell_type": "markdown",
   "metadata": {},
   "source": [
    "##  Holoviews\n",
    "\n",
    "Here where things are going to start to get weird to you as a matplotlib user.  Holoviews is designed so that your styling commands are always separate from your plotting commands.  What is even weirder is that these styling commands are performed with IPython Magic function.  This really bothered me at first, because it is special to working in the notebook, but Holoviews provides non-magic-function equivalents.  The advantage of using the IPython magics is compactness and simplicity.  \n",
    "\n",
    "I know this feels really awkward at first because you are so used to combining everything together, but after you get the hang of it, you will see that it enables some really cool capability. \n",
    "\n",
    "One final thing you'll have to get used to is that there are two levels of controlling how your figures look.  One is at the holoviews level (controls layout, figure size, etc.) and the other is at the Bokeh level.  Now, what does that mean?  Holovies is designed to work with a bunch of different backends.  As a matter of fact, matplotlib itself is an allowable backend. (Try it.  Change the extension below from `'bokeh'` to '`matplotlib`' and you will see a simple matplotlib figure being generated).  The point is this.  Styling individual compoenents of your plot such as line properties, colors, etc, is the responsibility of the plotting backend.  Backends other than Bokeh are beyond the scope of this tutorial.\n",
    "\n",
    "One thing to note is that IPython magic functions are a bit finniky in their syntax.  They MUST be at the top of your cell, have no space in `%%opts` and have spaces between (in this case) `Curve` and `[width=...]`\n",
    "\n",
    "** You can use tab completion within the [ ... ] and ( ... ) to see what options are available to you **\n",
    "\n",
    "FIND A PLACE FOR THESE\n",
    "-# make a simple plot.  Jupyter will automatically display the chart if it is the last statement\n",
    "-# in a cell.  You can use the display command to show plots not at the end of a cell like this\n",
    "-# from IPython.display import display\n",
    "-# display(hv.Curve((x, y)))"
   ]
  },
  {
   "cell_type": "markdown",
   "metadata": {},
   "source": [
    "## Styling Line Plots\n",
    "* tags: line_plot line_color line_width line_style line_opacity fig_size"
   ]
  },
  {
   "cell_type": "markdown",
   "metadata": {},
   "source": [
    "### Matplotlib"
   ]
  },
  {
   "cell_type": "code",
   "execution_count": null,
   "metadata": {},
   "outputs": [],
   "source": [
    "pl.figure(figsize=(8, 4))\n",
    "pl.plot(time, ysin, 'r:', linewidth=10, alpha=.2)\n",
    "fig = pl.gcf()\n"
   ]
  },
  {
   "cell_type": "markdown",
   "metadata": {},
   "source": [
    "### Holoviews"
   ]
  },
  {
   "cell_type": "code",
   "execution_count": null,
   "metadata": {},
   "outputs": [],
   "source": [
    "%%opts Curve [width=500 height=300] \n",
    "%%opts Curve (color='red', line_dash='dotted' line_alpha=.2, line_width=10)\n",
    "\n",
    "\n",
    "hv.Curve((time, ysin))"
   ]
  },
  {
   "cell_type": "markdown",
   "metadata": {},
   "source": [
    "## Adding lables/title"
   ]
  },
  {
   "cell_type": "markdown",
   "metadata": {},
   "source": [
    "### Matplotlib"
   ]
  },
  {
   "cell_type": "code",
   "execution_count": null,
   "metadata": {},
   "outputs": [],
   "source": [
    "pl.plot(time, ysin)\n",
    "pl.xlabel('Time')\n",
    "pl.ylabel('Amplitude')\n",
    "pl.title('Sine Wave Example');"
   ]
  },
  {
   "cell_type": "markdown",
   "metadata": {},
   "source": [
    "### Holoviews"
   ]
  },
  {
   "cell_type": "code",
   "execution_count": null,
   "metadata": {},
   "outputs": [],
   "source": [
    "hv.Curve((time, ysin), 'Time', 'Amplitude', label='Sine Wave Example')"
   ]
  },
  {
   "cell_type": "markdown",
   "metadata": {},
   "source": [
    "## Subplots/Overlays"
   ]
  },
  {
   "cell_type": "markdown",
   "metadata": {},
   "source": [
    "### Matplotlib"
   ]
  },
  {
   "cell_type": "code",
   "execution_count": null,
   "metadata": {},
   "outputs": [],
   "source": [
    "pl.subplot(121)\n",
    "pl.plot(time, ysin, 'r', label='sin')\n",
    "pl.title('sin')\n",
    "\n",
    "pl.subplot(122)\n",
    "pl.plot(time, ycos, 'b', label='cos')\n",
    "pl.title('cos');"
   ]
  },
  {
   "cell_type": "code",
   "execution_count": null,
   "metadata": {},
   "outputs": [],
   "source": [
    "pl.subplot(211)\n",
    "pl.plot(time, ysin, 'r', label='sin')\n",
    "pl.title('sin')\n",
    "\n",
    "pl.subplot(212)\n",
    "pl.plot(time, ycos, 'b', label='cos')\n",
    "pl.title('cos');"
   ]
  },
  {
   "cell_type": "code",
   "execution_count": null,
   "metadata": {},
   "outputs": [],
   "source": [
    "pl.plot(time, ysin, 'r', label='sin')\n",
    "pl.plot(time, ycos, 'b', label='cos')\n",
    "pl.legend()\n",
    "pl.title('sin and cos');"
   ]
  },
  {
   "cell_type": "markdown",
   "metadata": {},
   "source": [
    "### Holoviews"
   ]
  },
  {
   "cell_type": "code",
   "execution_count": null,
   "metadata": {},
   "outputs": [],
   "source": [
    "%%opts Curve.sin (color='red')\n",
    "%%opts Curve.cos (color='blue')\n",
    "%%opts Curve ()\n",
    "\n",
    "sin_curve = hv.Curve((time, ysin), 'Time', 'Amplitude', label='sin')\n",
    "cos_curve = hv.Curve((time, ycos), 'Time', 'Amplitude', label='cos')\n",
    "\n",
    "\n",
    "sin_curve + cos_curve"
   ]
  },
  {
   "cell_type": "code",
   "execution_count": null,
   "metadata": {},
   "outputs": [],
   "source": [
    "(sin_curve + cos_curve).cols(1)"
   ]
  },
  {
   "cell_type": "code",
   "execution_count": null,
   "metadata": {},
   "outputs": [],
   "source": [
    "(sin_curve * cos_curve).relabel('sin and cos')"
   ]
  },
  {
   "cell_type": "code",
   "execution_count": null,
   "metadata": {
    "collapsed": true
   },
   "outputs": [],
   "source": []
  },
  {
   "cell_type": "code",
   "execution_count": null,
   "metadata": {},
   "outputs": [],
   "source": [
    "%%opts ErrorBars.sin Curve.sin (color='red')\n",
    "%%opts ErrorBars.cos Curve.cos (color='blue')\n",
    "\n",
    "df = pd.DataFrame(\n",
    "    {\n",
    "        'time': time,\n",
    "        'ysin': ysin,\n",
    "        'sin_err': .5 * ysin,\n",
    "        'ycos': ycos,\n",
    "        'cos_err_plus': .1 * ycos,\n",
    "        'cos_err_minus': .5 * ycos\n",
    "    }\n",
    ")\n",
    "df.head()\n",
    "\n",
    "\n",
    "sin_curve = hv.Curve(df, 'time', hv.Dimension('ysin', range=(-2, 2)), group='sin')\n",
    "sin_err = hv.ErrorBars(df, kdims=['time'], vdims=['ysin', 'sin_err'], group='sin')\n",
    "\n",
    "cos_curve = hv.Curve(df, 'time', 'ycos', group='cos')\n",
    "cos_err = hv.ErrorBars(df, kdims=['time'], vdims=['ycos', 'cos_err_plus', 'cos_err_minus'], group='cos')\n",
    "\n",
    "# commenting out any one of the lines below removes the plot\n",
    "(\n",
    "    sin_curve \n",
    "    * sin_err \n",
    "    * cos_curve \n",
    "    * cos_err\n",
    ")\n"
   ]
  },
  {
   "cell_type": "code",
   "execution_count": null,
   "metadata": {},
   "outputs": [],
   "source": [
    "%%opts Overlay [show_legend=False]\n",
    "curves = []\n",
    "for phase in np.linspace(0, 2 * np.pi, 9):\n",
    "    curves.append(hv.Curve((time, np.sin(time + phase)), label=f'phase={round(180*phase / np.pi)}'))\n",
    "    \n",
    "    \n",
    "# hv.Layout([hv.Scatter(c) for c in curves]).cols(3)\n",
    "hv.Overlay(curves)\n",
    "    "
   ]
  },
  {
   "cell_type": "code",
   "execution_count": null,
   "metadata": {},
   "outputs": [],
   "source": [
    "%%opts Histogram Distribution [width=800, height=400] (alpha=.2)\n",
    "\n",
    "(\n",
    "    (\n",
    "    hv.Histogram(\n",
    "        np.histogram(randx, range=(-5, 5), bins=30, normed=True),\n",
    "        kdims=['hello'], vdims=['prob'], label='randx')\n",
    "\n",
    "    * hv.Histogram(np.histogram(randy, range=(-5, 5), bins=30, normed=True), label='randy')\n",
    "    ).relabel('Histogram')\n",
    "+ (hv.Distribution(randx, 'a') * hv.Distribution(randy, 'b')).relabel('KDE')\n",
    ").cols(1)"
   ]
  },
  {
   "cell_type": "code",
   "execution_count": null,
   "metadata": {},
   "outputs": [],
   "source": [
    "%%opts Scatter [width=400, height=400, color_index=0, size_index=1] (marker='o', size=10, alpha=.5, cmap='viridis')\n",
    "# hv.Scatter((randx, randy))\n",
    "hv.Scatter((ycos, ysin + 1))\n"
   ]
  },
  {
   "cell_type": "code",
   "execution_count": null,
   "metadata": {
    "collapsed": true
   },
   "outputs": [],
   "source": [
    "hv."
   ]
  },
  {
   "cell_type": "code",
   "execution_count": null,
   "metadata": {
    "collapsed": true
   },
   "outputs": [],
   "source": []
  },
  {
   "cell_type": "code",
   "execution_count": null,
   "metadata": {
    "collapsed": true
   },
   "outputs": [],
   "source": []
  },
  {
   "cell_type": "code",
   "execution_count": null,
   "metadata": {
    "collapsed": true
   },
   "outputs": [],
   "source": []
  },
  {
   "cell_type": "code",
   "execution_count": null,
   "metadata": {
    "collapsed": true
   },
   "outputs": [],
   "source": []
  },
  {
   "cell_type": "code",
   "execution_count": null,
   "metadata": {
    "collapsed": true
   },
   "outputs": [],
   "source": []
  },
  {
   "cell_type": "code",
   "execution_count": null,
   "metadata": {
    "collapsed": true
   },
   "outputs": [],
   "source": []
  },
  {
   "cell_type": "code",
   "execution_count": null,
   "metadata": {
    "collapsed": true
   },
   "outputs": [],
   "source": []
  },
  {
   "cell_type": "code",
   "execution_count": null,
   "metadata": {
    "collapsed": true
   },
   "outputs": [],
   "source": []
  },
  {
   "cell_type": "code",
   "execution_count": null,
   "metadata": {
    "collapsed": true
   },
   "outputs": [],
   "source": []
  },
  {
   "cell_type": "markdown",
   "metadata": {},
   "source": [
    "will start to see power of separating styling from plot.  Try different things.  Say something about how easy it is to switch from overlay to subplot by just changing operator\n",
    "\n",
    "I ACTUALLY MIGHT WANT TO CHANGE THIS EXAMPLE TO SHOW HOW MUCH EASIER IT IS TO SWITCH BETWEEN\n",
    "SUBPLOTS AND OVERLAYS"
   ]
  },
  {
   "cell_type": "code",
   "execution_count": null,
   "metadata": {
    "collapsed": true
   },
   "outputs": [],
   "source": [
    "%%opts Curve [width=300 height=300] \n",
    "%%opts Curve.sin (color='blue')\n",
    "%%opts Curve.cos (color='red')\n",
    "\n",
    "# --------- All styling happens above this line. All plot specification below this line ------------\n",
    "\n",
    "\n",
    "# define some curves\n",
    "curve1 = hv.Curve((time, ysin), 'Time', 'Amplitude', group=('sin', 'Sine Wave Example'))\n",
    "curve2 = hv.Curve((time, ycos), 'Time', 'Amplitude', group=('cos', 'Cosine Wave Example'))\n",
    "\n",
    "# Change this variable to see the different ways to create subplots and overlays\n",
    "kind = 'overlay'\n",
    "\n",
    "#TODO: BREAK THESE UP INTO DIFFERENT CELLS\n",
    "# \"Adding\" two curves together results in a subplot (defaults to 1 x 2)\n",
    "if kind == 'subplot12':\n",
    "    composite = curve1 + curve2\n",
    "\n",
    "# The layout object created by adding two curves has a .cols() method.\n",
    "# Here we use it to specify 1 column thereby creating a 2 x 1 subplot\n",
    "elif kind == 'subplot21':\n",
    "    composite = (curve1 + curve2)\n",
    "    composite.cols(1)\n",
    "    \n",
    "# \"Multiplying\" two curves together results in them being displayed on the same plot.\n",
    "# This is called an overlay.  But lets say you wanted to add a title to your overlay.\n",
    "# There's no way to do that with a * operator, so you can explicitely create an overlay.\n",
    "# Then, the cool thing with holovies is that you can compose the titled and untitled\n",
    "# into subplots by just \"adding\" them together.\n",
    "elif kind == 'overlay':\n",
    "    # Short-cut way of making overlays\n",
    "    untitled = curve1 * curve2\n",
    "    \n",
    "    # Explicitly making overlays lets you create a label\n",
    "    titled = hv.Overlay([curve1, curve2], label='Harmonic')\n",
    "    \n",
    "    # You can compose your plots using the +/* operators which is pretty cool\n",
    "    composite = untitled + titled\n",
    "\n",
    "\n",
    "composite\n",
    "# Tags for actions executed in this cell: \n",
    "#     line_plot line_color fig_size xylabel subplots title"
   ]
  },
  {
   "cell_type": "code",
   "execution_count": null,
   "metadata": {
    "collapsed": true
   },
   "outputs": [],
   "source": []
  },
  {
   "cell_type": "code",
   "execution_count": null,
   "metadata": {
    "collapsed": true
   },
   "outputs": [],
   "source": []
  },
  {
   "cell_type": "markdown",
   "metadata": {},
   "source": [
    "* `line_color`: *set a line color*\n",
    "* `line_width`: *set a line width*\n",
    "* `line_style`: *make a line solid, dashed, dotted, etc*\n",
    "* `line_opacity`: *change line opacity*\n",
    "* `marker`: *set marker shape/size*\n",
    "* `fig_size`: *manually set a figure size*\n",
    "* `subplots`: *do subplots*\n",
    "* `twinx`: *overlap two different plots with vastly different y scales*\n",
    "* `log_axes`: *set either/both axes to log*\n",
    "* `axis_limits`: *set axis limits on either/both x, y axes*\n",
    "* `grid`: *set grids on/off*\n",
    "* `legend_manual`: *manually place legend*\n",
    "* `legend_best`: *auto place legend at \"best\" location*\n",
    "* `text`: *overlay text*\n",
    "* `xticks`: *manually set where the xticks of a graph will lie*\n",
    "* `xticklabels`: *manually define what the tick labels will be*\n",
    "\n"
   ]
  },
  {
   "cell_type": "code",
   "execution_count": null,
   "metadata": {
    "collapsed": true
   },
   "outputs": [],
   "source": []
  },
  {
   "cell_type": "code",
   "execution_count": null,
   "metadata": {
    "collapsed": true
   },
   "outputs": [],
   "source": []
  },
  {
   "cell_type": "code",
   "execution_count": null,
   "metadata": {
    "collapsed": true
   },
   "outputs": [],
   "source": []
  },
  {
   "cell_type": "code",
   "execution_count": null,
   "metadata": {
    "collapsed": true
   },
   "outputs": [],
   "source": []
  },
  {
   "cell_type": "code",
   "execution_count": null,
   "metadata": {
    "collapsed": true
   },
   "outputs": [],
   "source": []
  },
  {
   "cell_type": "code",
   "execution_count": null,
   "metadata": {
    "collapsed": true
   },
   "outputs": [],
   "source": []
  },
  {
   "cell_type": "code",
   "execution_count": null,
   "metadata": {
    "collapsed": true
   },
   "outputs": [],
   "source": []
  }
 ],
 "metadata": {
  "kernelspec": {
   "display_name": "Python 3",
   "language": "python",
   "name": "python3"
  },
  "language_info": {
   "codemirror_mode": {
    "name": "ipython",
    "version": 3
   },
   "file_extension": ".py",
   "mimetype": "text/x-python",
   "name": "python",
   "nbconvert_exporter": "python",
   "pygments_lexer": "ipython3",
   "version": "3.6.2"
  }
 },
 "nbformat": 4,
 "nbformat_minor": 1
}
