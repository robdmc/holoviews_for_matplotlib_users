{
 "cells": [
  {
   "cell_type": "markdown",
   "metadata": {},
   "source": [
    "# Holoviews for Matplotlib Users\n",
    "\n",
    "## Purpose\n",
    "This notebook is a working document to come with what will hopefully be a useful resource for matplotlib users to transition to holoviews.\n",
    "\n",
    "The overall vision would be to create a resource where people could find direct examples translating matplotlib commands/tasks they already know into their holoviews equivalent.  I think a good way to do this might be to create quasi-identical matplotlib and holoviews plots, each with a subset of tasks carried out.  Then each of these examples can be tagged with the tasks they contain.  This would make it really easy to search, for example, for all the examples that include manually setting the color of a line plot.\n",
    "\n",
    "The segment of users wanting to switch from matplotlib to holoviews will probably be primarily motivated by the excellent bokeh backend.  If they already know matplotlib, then they would have less of an incentive to use holoviews instead of just dropping back to the mpl they know and love.  I would recommend that this document focus on using only the bokeh backend.\n",
    "\n",
    "Furthermore.  Many users will be writing code in jupyter notebooks, but a fair number of old-school guys like me will probably want code they can put in scripts as well.  This means that it would be nice to have notebook (i.e. magics) and script examples for each task."
   ]
  },
  {
   "cell_type": "markdown",
   "metadata": {},
   "source": [
    "## List of possible tags\n",
    "\n",
    "These are tasks that I know how to do in matplotlib, but want to know how to do in holoviews\n",
    "\n",
    "### Types of plots\n",
    "* `line_plot`: *draw a simple line plot*\n",
    "* `scatter_plot`: *draw a scatter plot varying postion, shape, size and color*\n",
    "* `histogram_plot`: *plot histograms*\n",
    "* `area_plot`: *draw (stacked) area plots*\n",
    "* `error_bar_plot`: *errorbar plot with mean +/- sigma specified*\n",
    "* `contour_plot`: *draw a contour plot of some function*\n",
    "* `image_plot`: *plot images (either actuall images or 2-d arrays)*\n",
    "* `bar_plot`: *create a bar pot*\n",
    "\n",
    "\n",
    "\n",
    "### Plot styling\n",
    "* `line_color`: *set a line color*\n",
    "* `line_width`: *set a line width*\n",
    "* `line_style`: *make a line solid, dashed, dotted, etc*\n",
    "* `line_opacity`: *change line opacity*\n",
    "* `marker`: *set marker shape/size*\n",
    "* `fig_size`: *manually set a figure size*\n",
    "* `subplots`: *do subplots*\n",
    "* `twinx`: *overlap two different plots with vastly different y scales*\n",
    "* `log_axes`: *set either/both axes to log*\n",
    "* `axis_limits`: *set axis limits on either/both x, y axes*\n",
    "* `grid`: *set grids on/off*\n",
    "* `legend_manual`: *manually place legend*\n",
    "* `legend_best`: *auto place legend at \"best\" location*\n",
    "* `text`: *overlay text*\n",
    "* `xticks`: *manually set where the xticks of a graph will lie*\n",
    "* `xticklabels`: *manually define what the tick labels will be*\n",
    "\n",
    "\n"
   ]
  },
  {
   "cell_type": "markdown",
   "metadata": {},
   "source": [
    "# Preambles\n",
    "Before using either matplotlib or holoviews, you need to run imports and some basic configuration.\n",
    "\n",
    "## Matplotlib Preamble\n",
    "```python\n",
    "% matplotlib inline\n",
    "import pylab as pl\n",
    "```\n",
    "\n",
    "## Holoviews Preamble\n",
    "```python\n",
    "import holoviews as hv\n",
    "hv.extension('bokeh')\n",
    "```\n",
    "\n",
    "## Preamble for working with examples\n",
    "```python\n",
    "import pandas as pd\n",
    "import numpy as np\n",
    "```"
   ]
  },
  {
   "cell_type": "code",
   "execution_count": null,
   "metadata": {
    "collapsed": true
   },
   "outputs": [],
   "source": []
  },
  {
   "cell_type": "code",
   "execution_count": null,
   "metadata": {
    "collapsed": true
   },
   "outputs": [],
   "source": [
    "% matplotlib inline\n",
    "import pandas_datareader.data as web\n",
    "import datetime\n",
    "import pylab as pl\n",
    "import pandas as pd\n"
   ]
  },
  {
   "cell_type": "code",
   "execution_count": null,
   "metadata": {
    "collapsed": true
   },
   "outputs": [],
   "source": []
  },
  {
   "cell_type": "code",
   "execution_count": null,
   "metadata": {},
   "outputs": [],
   "source": [
    "start = datetime.datetime(2016, 1, 1)\n",
    "end = datetime.datetime(2016, 12, 31)\n",
    "panel = web.DataReader(['aapl', 'goog', 'amzn'], start=start, end=end, data_source='yahoo')\n",
    "dfc = panel['Close']\n",
    "dfc = dfc.sort_index().reset_index().rename(\n",
    "    columns={'Date': 'date'}\n",
    ").reset_index().rename(\n",
    "    columns={'index': 'day'}\n",
    ")\n",
    "\n",
    "dfv = panel['Volume']\n",
    "dfv = dfv.sort_index().reset_index().rename(\n",
    "    columns={'Date': 'date'}\n",
    ").reset_index().rename(\n",
    "    columns={'index': 'day'}\n",
    ")"
   ]
  },
  {
   "cell_type": "code",
   "execution_count": null,
   "metadata": {},
   "outputs": [],
   "source": [
    "dfc.head()"
   ]
  },
  {
   "cell_type": "code",
   "execution_count": null,
   "metadata": {},
   "outputs": [],
   "source": [
    "dfv.head()"
   ]
  },
  {
   "cell_type": "code",
   "execution_count": null,
   "metadata": {
    "collapsed": true
   },
   "outputs": [],
   "source": [
    "dfc.to_csv('closing.csv', index=False)\n",
    "dfv.to_csv('volume.csv', index=False)"
   ]
  },
  {
   "cell_type": "code",
   "execution_count": null,
   "metadata": {},
   "outputs": [],
   "source": [
    "dfx = pd.read_csv('volume.csv')\n",
    "dfx.head()"
   ]
  },
  {
   "cell_type": "code",
   "execution_count": null,
   "metadata": {},
   "outputs": [],
   "source": [
    "# simple line plot with axis labels and title\n",
    "pl.plot(df.day, df.aapl)\n",
    "pl.xlabel('day')\n",
    "pl.ylabel('price')\n",
    "pl.title('AAPL Stock Price')"
   ]
  },
  {
   "cell_type": "code",
   "execution_count": null,
   "metadata": {},
   "outputs": [],
   "source": [
    "# simple plot with log axes\n",
    "pl.loglog(df.day, df.aapl)\n",
    "pl.xlabel('day')\n",
    "pl.ylabel('price')\n",
    "pl.title('AAPL Stock Price')\n",
    "\n",
    "# another plot with only one axis being log\n",
    "# simple plot with log axes\n",
    "pl.semilogx(df.day, df.aapl)\n",
    "pl.xlabel('day')\n",
    "pl.ylabel('price')\n",
    "pl.title('AAPL Stock Price')\n"
   ]
  },
  {
   "cell_type": "code",
   "execution_count": null,
   "metadata": {},
   "outputs": [],
   "source": [
    "# line plot with markers, custom axes, and grid, and custom legend placement\n",
    "pl.plot(df.day, df.aapl, 'x-', label='apple')\n",
    "ax = pl.gca()\n",
    "ax.set_xlim((0, 100))\n",
    "ax.set_ylim((0, 115))\n",
    "pl.grid(True)\n",
    "pl.legend(loc=3)\n"
   ]
  },
  {
   "cell_type": "code",
   "execution_count": null,
   "metadata": {},
   "outputs": [],
   "source": [
    "# plots on same axis with best placement of legend\n",
    "pl.plot(df.day, df.aapl, 'r.-')\n",
    "pl.plot(df.day, df.goog, 'b.-')\n",
    "pl.plot(df.day, df.amzn, 'g.-')\n",
    "pl.legend(loc='best')\n",
    "\n"
   ]
  },
  {
   "cell_type": "code",
   "execution_count": null,
   "metadata": {},
   "outputs": [],
   "source": [
    "# twinx plot (really want this for bokeh backend)\n",
    "pl.plot(df.day, df.aapl, 'r.-')\n",
    "pl.xlabel('Days')\n",
    "pl.ylabel('Apple Price', color='red')\n",
    "ax = pl.gca()\n",
    "ax.twinx()\n",
    "\n",
    "pl.plot(df.day, df.goog, 'b.-')\n",
    "pl.ylabel('Google Price', color='blue')"
   ]
  },
  {
   "cell_type": "code",
   "execution_count": null,
   "metadata": {},
   "outputs": [],
   "source": [
    "# transparent scatter plot\n",
    "pl.scatter(df.aapl, df.goog, alpha=.1, s=80)\n",
    "pl.scatter(df.aapl, df.amzn, alpha=.1, s=80)\n",
    "\n"
   ]
  },
  {
   "cell_type": "code",
   "execution_count": null,
   "metadata": {},
   "outputs": [],
   "source": [
    "# simple histogram setting bins and range\n",
    "_ = pl.hist(df.aapl, bins=20, range=(100, 110))"
   ]
  },
  {
   "cell_type": "code",
   "execution_count": null,
   "metadata": {},
   "outputs": [],
   "source": [
    "# transparent  histogram with legend and labels\n",
    "_ = pl.hist(df.goog, bins=20, normed=True, alpha=.2, label='google')\n",
    "_ = pl.hist(df.amzn, bins=20, normed=True, alpha=.2, label='amazon')\n",
    "pl.legend(loc='best')\n",
    "pl.xlabel('price')\n",
    "pl.ylabel('Normalized Frequency')"
   ]
  },
  {
   "cell_type": "code",
   "execution_count": null,
   "metadata": {},
   "outputs": [],
   "source": [
    "# two figures with different subplot layouts\n",
    "pl.subplot(211)\n",
    "pl.plot(df.day, df.amzn)\n",
    "pl.subplot(212)\n",
    "pl.plot(df.day, df.goog)\n",
    "\n",
    "pl.figure()\n",
    "pl.subplot(121)\n",
    "pl.plot(df.day, df.amzn)\n",
    "pl.subplot(122)\n",
    "pl.plot(df.day, df.goog)\n"
   ]
  },
  {
   "cell_type": "code",
   "execution_count": null,
   "metadata": {},
   "outputs": [],
   "source": [
    "# simple stacked filled chart\n",
    "pl.fill_between(df.day, df.goog, label='google')\n",
    "pl.fill_between(df.day, df.amzn + df.goog, df.goog, label='amazon')\n",
    "pl.legend(loc='best')\n",
    "\n"
   ]
  },
  {
   "cell_type": "code",
   "execution_count": null,
   "metadata": {},
   "outputs": [],
   "source": [
    "!pwd"
   ]
  },
  {
   "cell_type": "code",
   "execution_count": null,
   "metadata": {
    "collapsed": true
   },
   "outputs": [],
   "source": []
  }
 ],
 "metadata": {
  "kernelspec": {
   "display_name": "Python 3",
   "language": "python",
   "name": "python3"
  },
  "language_info": {
   "codemirror_mode": {
    "name": "ipython",
    "version": 3
   },
   "file_extension": ".py",
   "mimetype": "text/x-python",
   "name": "python",
   "nbconvert_exporter": "python",
   "pygments_lexer": "ipython3",
   "version": "3.6.2"
  }
 },
 "nbformat": 4,
 "nbformat_minor": 1
}
